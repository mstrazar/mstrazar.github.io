{
 "cells": [
  {
   "cell_type": "markdown",
   "metadata": {},
   "source": [
    "# Tuning a Variational Autoencoder with HMC-based Bayesian Optimization"
   ]
  },
  {
   "cell_type": "markdown",
   "metadata": {},
   "source": [
    "The last decade has witnessed several interesting ideas in optimization of various functions, that are ubiquitous in machine learning. Bayesian Optimization, also known as surrogate modelling is a particularly interesting technique to optimize black box functions (<a href=\"https://www.cs.ox.ac.uk/people/nando.defreitas/publications/BayesOptLoop.pdf\">Shahriari et al., 2012</a>).\n",
    "\n",
    "These notes will take a look at how to optimize an expensive-to-evaluate function, which will return the predictive performance of an Variational Autoencoder (VAE). We will optimize one of the hyperparameters defining the VAE - the $l_2$ regularization parameter. This type of applications of Bayesian optimization are referred to as <i>automatic machine learning</i>.\n",
    "\n",
    "\n",
    "\n",
    "Perhaps the most interesting part of the tutorial is the definition of a surrogate model as a <i>probabilistic program</i>, using the rapidly-emerging modelling language, STAN (<a href=\"https://www.jstatsoft.org/article/view/v076i01\">Carpenter et. al, 2017</a>), which neatly implements automatic differentiation and a Hamiltonian Monte Carlo (HMC) sampler. This way, we are able to learn various nuisance parameters, such as black-box function related variance and lengthscales in a semi-automated way.\n",
    "\n",
    "This post and some figures are based on a previous post explaining the implementation of <a href=\"https://blog.keras.io/building-autoencoders-in-keras.html\">VAEs with Keras</a>. The relevant terminology for Bayesian optimization can be found in the <a href=\"https://towardsdatascience.com/the-intuitions-behind-bayesian-optimization-with-gaussian-processes-7e00fcc898a0\"> Intuitions behind Bayesian Optimization with GPs</a> post.\n",
    "\n",
    "<br/>\n",
    "<figure>\n",
    "<img src=\"img/tnp.jpg\"/>\n",
    "<figcaption align=\"right\"><font color=\"gray\">Multiple local maxima and minima in the Triglav National Park, Slovenia.   </font></figcaption>\n",
    "</figure>\n"
   ]
  },
  {
   "cell_type": "markdown",
   "metadata": {},
   "source": [
    "#### Prerequisites\n",
    "\n",
    "\n",
    "To run the examples in this notebook, we will use some external libraries; a framework to build neural network-like models, <a href=\"https://keras.io\">Keras</a>, the Python interface for <a href=\"https://pystan.readthedocs.io/en/latest/\">STAN</a>, and the <a href=\"https://matplotlib.org\">Matplotlib</a>, <a href=\"http://www.numpy.org\">NumPy</a>, <a href=\"https://www.scipy.org\">SciPy</a> trio. On top of that, we will use two custom implementations of the Variational autoencoder <a href=\"vae.py\">`vae.py`</a>, and a Gaussian Process <a href=\"gp.py\">`gp.py`</a>."
   ]
  },
  {
   "cell_type": "code",
   "execution_count": 50,
   "metadata": {
    "scrolled": true
   },
   "outputs": [],
   "source": [
    "import numpy as np\n",
    "import matplotlib.pyplot as plt\n",
    "from pystan import StanModel\n",
    "from keras.datasets import mnist\n",
    "from vae import VAE\n",
    "from gp import GP\n",
    "from scipy.stats import multivariate_normal as mvn\n",
    "from scipy.spatial.distance import cdist"
   ]
  },
  {
   "cell_type": "markdown",
   "metadata": {},
   "source": [
    "## Variational Autoencoder and simple image data set \n",
    "\n",
    "To start off, we will define our machine learning scenario. Briefly, a Variational Autoencoder (VAE) takes data vectors on the input, pushes them throuh an <i>encoding function</i> to obtain a low dimensional (latent) representation, and \n",
    "finally uses a <i>decoding function</i> to approximate original vectors given the latent representation. Both the encoder and the decoder are often implemented using neural networks, which is nowadays quite simple using tools like Keras."
   ]
  },
  {
   "cell_type": "markdown",
   "metadata": {},
   "source": [
    "<img src=\"./img/vae.jpg\"/>"
   ]
  },
  {
   "cell_type": "markdown",
   "metadata": {},
   "source": [
    "Our toy dataset will be composed of tens of thousands of small $28 \\times 28$ pixel images containing hand-written digits."
   ]
  },
  {
   "cell_type": "markdown",
   "metadata": {},
   "source": [
    "<img src=\"./img/digits.png\"/>"
   ]
  },
  {
   "cell_type": "code",
   "execution_count": 51,
   "metadata": {
    "collapsed": true
   },
   "outputs": [],
   "source": [
    "# MNIST data set\n",
    "(x_train, y_train), (x_test, y_test) = mnist.load_data()\n",
    "\n",
    "# Original image dimension - need to reconstruct when plotting.\n",
    "image_dim = (x_train.shape[1], x_train.shape[2])\n",
    "original_dim = x_train.shape[1] * x_train.shape[2]\n",
    "\n",
    "x_train = np.reshape(x_train, [-1, original_dim])\n",
    "x_test = np.reshape(x_test, [-1, original_dim])\n",
    "x_train = x_train.astype('float32') / 255\n",
    "x_test = x_test.astype('float32') / 255"
   ]
  },
  {
   "cell_type": "markdown",
   "metadata": {},
   "source": [
    "Our variational autoencoder will use a latent dimension of 1 for illustration purposes. Crucially, it will be dependent on a scalar regularization parameter, $\\alpha > 0$, that controls for model complexity. This parameter plays a familiar role in many machine learning models.\n",
    "\n",
    "We define a function that returns the model class and a value that quantifies loss on validation data. This is the quantity that we will try to minimize by exploration of the space where $\\alpha$ lives."
   ]
  },
  {
   "cell_type": "code",
   "execution_count": 52,
   "metadata": {
    "collapsed": true
   },
   "outputs": [],
   "source": [
    "def score_parameters(x_train, x_test, original_dim,\n",
    "                     **kwargs):\n",
    "    \"\"\" Train the autoencoder and return score. \"\"\"\n",
    "    factory = VAE(original_dim=original_dim, latent_dim=1, **kwargs)\n",
    "    vae = factory.compile()\n",
    "    vae.fit(x_train,\n",
    "           epochs=10,\n",
    "           batch_size=30,\n",
    "           validation_data=(x_test, None),\n",
    "           verbose=False)\n",
    "    return factory, vae, vae.history.history[\"val_loss\"][-1]\n",
    "    # return None, None, (-4-np.log10(kwargs.get(\"alpha1\", 0)))**2"
   ]
  },
  {
   "cell_type": "markdown",
   "metadata": {},
   "source": [
    "We define what we deem a suitable range where $\\alpha$ would produce reasonable models. Say this range is equal to the interval $[10^{-10}, ..., 10^{-3}]$. As is often done, we will explore the space of candidate $\\alpha$ in the log space, so the sample space under investigation is denoted $X = [-10,...,-3]$, and $\\alpha = 10^x$ for some $x \\in X$.\n",
    "\n"
   ]
  },
  {
   "cell_type": "code",
   "execution_count": 53,
   "metadata": {
    "collapsed": true,
    "scrolled": true
   },
   "outputs": [],
   "source": [
    "# Optimization parameters\n",
    "n = 1000\n",
    "delta = 3\n",
    "iterations = 10\n",
    "X = np.linspace(-10, -3, n).reshape((n, 1))"
   ]
  },
  {
   "cell_type": "markdown",
   "metadata": {},
   "source": [
    "To get a feeling how the models behave under different parameter values, let's sample a couple of <i>look-ahead</i>points within the domain. These will be used to get an initial idea of the surface of our black box function.  The function takes a couple of minutes to run, which we chose on purpose to advocate the utility of Bayesian optimization. "
   ]
  },
  {
   "cell_type": "code",
   "execution_count": 54,
   "metadata": {},
   "outputs": [],
   "source": [
    "lookahead = [20, 500, 980]\n",
    "\n",
    "# Evaluate model for a sample of points\n",
    "scores = [score_parameters(x_train,\n",
    "                           x_test,\n",
    "                           original_dim, alpha1=10**X[i])[-1] for i in lookahead]"
   ]
  },
  {
   "cell_type": "markdown",
   "metadata": {},
   "source": [
    "The validation loss is clearly dependent on $\\alpha$, suggesting a minimum value somewhere within the pre-specified domain."
   ]
  },
  {
   "cell_type": "code",
   "execution_count": 55,
   "metadata": {
    "scrolled": true
   },
   "outputs": [
    {
     "name": "stdout",
     "output_type": "stream",
     "text": [
      "Index: 20\talpha: 1.38e-10\tloss f(x):172.86\n",
      "Index: 500\talpha: 3.19e-07\tloss f(x):172.49\n",
      "Index: 980\talpha: 7.36e-04\tloss f(x):173.93\n"
     ]
    }
   ],
   "source": [
    "for ai, f in zip(lookahead, scores):\n",
    "    print(\"Index: %d\\talpha: %.2e\\tloss f(x):%.2f\" % (ai, 10**X[ai, 0], f))"
   ]
  },
  {
   "cell_type": "markdown",
   "metadata": {},
   "source": [
    "<br/>\n",
    "<br/>\n",
    "\n",
    "## Bayesian optimization of a black-box function\n",
    "\n",
    "To implement Bayesian optimization of a black box function, we usually need the following ingredients:\n",
    "* <b>A surrogate model.</b> A model of the black box function we want to optimize. The model shall return both the mean prediction as well as the predicted variance of the function values. A convenient model is the Gaussian Process (GP).\n",
    "* <b>A covariance function (kernel)</b>. Gaussian Processes are defined with the mean function and the covariance function. A covariance function is a bivariate function that returns and estimate of the coavariance between two input points.\n",
    "* <b>An acquisition function</b>. Combines the predicted mean and variance to reveal where to evaluate the black box function next. It is designed to trade-off <i>exploration</i> (regions of high variance - uncertainty) and <i>exploitation</i> (regions of high predicted mean value)."
   ]
  },
  {
   "cell_type": "markdown",
   "metadata": {},
   "source": [
    "### Gaussian Process as a surrogate model\n",
    "\n",
    "The uncertainty in the values of $f(x)$ is quantified using a Gaussian Process (GP), that links the parameter values ($x$) to the observed scores ($y \\propto f(x)$). A GP is a multivariate Normal distribution that is specified by the mean and covariance functions, both dependent on $x$.\n",
    "\n",
    "\n",
    "$$\n",
    "f(x) \\sim \\mathcal{N}(\\mu(x), \\Sigma(x))\n",
    "$$\n",
    "\n",
    "The mean function $\\mu(x)$ will be taken as constant, specifically the average of currently observed scores. The covariance function $\\Sigma(x)$, or the <i>kernel</i> will be defined as \n",
    "\n",
    "$$ k(x, x') = \\text{exp}(-\\frac{\\|x-x'\\|^2}{\\ell^2}) $$.\n",
    "\n",
    "This is a well-known kernel that induces dependencies between values of $x$ that are close in $\\mathcal{X}$. The closeness is in turn controlled by the lengthscale hyperparameter $\\ell$."
   ]
  },
  {
   "cell_type": "code",
   "execution_count": 56,
   "metadata": {
    "collapsed": true
   },
   "outputs": [],
   "source": [
    "def exponential_kernel(X, Y, bandwidth=1.0, lengthscale=1.0):\n",
    "    \"\"\"\n",
    "        :param X: Array of shape (n_samples, n_features)\n",
    "        :param Y: Array of shape (n_samples, n_features)\n",
    "        :param bandwidth: (``float``) Bandwidth.\n",
    "        :return: Kernel matrix between data points.\n",
    "    \"\"\"\n",
    "    return np.exp(- cdist(X, Y, metric=\"euclidean\") ** 2 / lengthscale ** 2)"
   ]
  },
  {
   "cell_type": "markdown",
   "metadata": {},
   "source": [
    "Here is how the kernel function looks like for a fixed value $x_0=-6$ and different values of the lengthscale. Clearly, larger lengthscales induces long range dependencies between different values of $x$. The key trick presented here will be to infer $\\ell$ automatically.\n",
    "\n",
    "Evaluating $k(x, x')$ for all pairs $x, x' \\in X$ yields the kernel matrix $\\mathbf{K}$."
   ]
  },
  {
   "cell_type": "code",
   "execution_count": 57,
   "metadata": {},
   "outputs": [
    {
     "data": {
      "image/png": "[encoded data removed]",
      "text/plain": [
       "<matplotlib.figure.Figure at 0x11ca00dd8>"
      ]
     },
     "metadata": {
      "needs_background": "light"
     },
     "output_type": "display_data"
    }
   ],
   "source": [
    "x0 = np.atleast_2d(-6)\n",
    "\n",
    "k_1 = exponential_kernel(X, x0, lengthscale=1)\n",
    "k_3 = exponential_kernel(X, x0, lengthscale=3)\n",
    "k_10 = exponential_kernel(X, x0, lengthscale=10)\n",
    "k_30 = exponential_kernel(X, x0, lengthscale=30)\n",
    "\n",
    "plt.figure()\n",
    "plt.xlabel(\"Parameter value\")\n",
    "plt.ylabel(\"k(x, x0)\")\n",
    "plt.plot(X, k_1, \"-\", label=\"$\\\\ell=10$\")\n",
    "plt.plot(X, k_3, \"-\", label=\"$\\\\ell=30$\")\n",
    "plt.plot(X, k_10, \"-\", label=\"$\\\\ell=100$\")\n",
    "plt.plot(X, k_30, \"-\", label=\"$\\\\ell=300$\")\n",
    "plt.legend()\n",
    "plt.grid()"
   ]
  },
  {
   "cell_type": "markdown",
   "metadata": {},
   "source": [
    "The final part of the specification is the relationship between noisy observation of target values $\\mathbf{y}$ and the function values $f(\\mathbf{X})$. In a Gaussian process, this is usually done be adding variance parameters that introduce noise in the observations.\n",
    "\n",
    "$$\n",
    "    \\mathbf{y} \\sim \\mathcal{N}({\\mu(\\mathbf{X}), \\mathbf{\\Sigma}})\n",
    "$$\n",
    "\n",
    "where the covariance matrix $\\mathbf{\\Sigma} =  \\sigma_{\\text{signal}} \\mathbf{K} + \\sigma_{\\text{noise}} \\mathbf{I}$ and $\\mathbf{K}$ is the kernel matrix obtained by evaluating the kernel function for all pairs of $x, x' \\in \\mathbf{X}$ and $\\mathbf{I}$ is the indentity matrix."
   ]
  },
  {
   "cell_type": "markdown",
   "metadata": {},
   "source": [
    "### Hyperparameter priors\n",
    "\n",
    "There are now three hyperparameters that we have to set: the lengthscale $\\ell$, the noise variance $\\sigma_{\\text{noise}}$ and the signal variance $\\sigma_{\\text{signal}}$. \n",
    "One option is to optimize respective values using techniques like gradient descent. Although that would probably give us sensible estimates, we introduce a solution based on sampling from the posterior distribution, conditioned on observations of the target values. \n",
    "\n",
    "The Gaussian process models enable a straightforward calculation of the <i>likelihood function</i> - probability of the data given the model, i. e.\n",
    "\n",
    "$$ p(\\mathcal{y}|X, \\ell, \\sigma_{\\text{noise}}, \\sigma_{\\text{signal}}) = \\mathcal{N}(f(\\mathbf{X}), \\mathbf{\\Sigma}) $$\n",
    "\n",
    "which we already seen above. Specifying <i>prior</i> distributions for the parameters would allow us to use Bayesian theorem to derive <i>posterior</i> distributions, e.g.\n",
    "\n",
    "$$ p(\\ell, \\sigma_{\\text{noise}}, \\sigma_{\\text{signal}}) \\propto p(\\mathcal{y}|X, \\ell, \\sigma_{\\text{noise}}, \\sigma_{\\text{signal}})p(\\ell, \\sigma_{\\text{noise}}, \\sigma_{\\text{signal}}) $$.\n",
    "\n",
    "It has long been known that introducing appropriate (conjugate) prior distributions would make the above equation to have a tractable form. Tools like STAN allow us more freedom in specifying prior distribution, and the underlying machinery takes care of the derivations. \n",
    "\n",
    "$$ \\text{log}(\\ell) \\sim \\mathcal{N}(\\mu_{\\ell}, \\sigma^2_{\\ell}) $$ \n",
    "\n",
    "$$ \\text{log}(\\sigma_{\\text{noise}}) \\sim \\mathcal{N}(\\mu_{\\text{noise}}, \\sigma^2_{\\text{noise}}) $$\n",
    "\n",
    "$$ \\text{log}(\\sigma_{\\text{signal}}) \\sim \\mathcal{N}(\\mu_{\\text{signal}}, \\sigma^2_{\\text{signal}}) $$\n",
    "\n",
    "where the parameters on the right hand size are hyperparameters. Instead of fixed initial values, specifying whole distributions of values allows for greater flexibility in finding suitable values. Note that other prior distributions are possible (e.g. Gamma), as long as they are defined for strictly positive real numbers.\n",
    " \n",
    "Still, we could introduce the general prior knowledge that the signal variance is sligthly greater than noise. \n",
    "Let's set some example initial values.\n"
   ]
  },
  {
   "cell_type": "code",
   "execution_count": 58,
   "metadata": {
    "collapsed": true
   },
   "outputs": [],
   "source": [
    "mu_noise = -4\n",
    "sd_noise = 1\n",
    "mu_signal = 1\n",
    "sd_signal = 2\n",
    "\n",
    "mu_lengthscale = 2\n",
    "sd_lengthscale = 1.5"
   ]
  },
  {
   "cell_type": "markdown",
   "metadata": {},
   "source": [
    "An important thing to note is that we are setting the signal variance to be on average higher than the noise variance. This is to be expected if the underlying function contains any regularity at all.\n",
    "\n",
    "Also important is the lengthscale distribution; The value of this parameter will determine the extent to which different values of the input space have influence on the scoring function."
   ]
  },
  {
   "cell_type": "code",
   "execution_count": 59,
   "metadata": {
    "scrolled": true
   },
   "outputs": [
    {
     "data": {
      "image/png": "[encoded data removed]",
      "text/plain": [
       "<matplotlib.figure.Figure at 0x11ae8c2b0>"
      ]
     },
     "metadata": {
      "needs_background": "light"
     },
     "output_type": "display_data"
    }
   ],
   "source": [
    "t_lengthscale = np.linspace(mu_lengthscale-5*sd_lengthscale, mu_lengthscale+5*sd_lengthscale, 100)\n",
    "pdf_lengthscale = mvn.pdf(t_lengthscale, mean=mu_lengthscale, cov=sd_lengthscale**2)\n",
    "\n",
    "t_noise = np.linspace(mu_noise-5*sd_noise, mu_noise+5*sd_noise, 100)\n",
    "pdf_noise = mvn.pdf(t_noise, mean=mu_noise, cov=sd_noise**2)\n",
    "\n",
    "t_signal = np.linspace(mu_signal-5*sd_signal, mu_signal+5*sd_signal, 100)\n",
    "pdf_signal = mvn.pdf(t_signal, mean=mu_signal, cov=sd_signal**2)\n",
    "\n",
    "plt.figure(figsize=(10, 5))\n",
    "plt.plot(t_lengthscale, pdf_lengthscale, label=\"p($\\\\ell$)\")\n",
    "plt.plot(t_noise, pdf_noise, label=\"p($\\\\sigma_{noise}$)\")\n",
    "plt.plot(t_signal, pdf_signal, label=\"p($\\\\sigma_{signal}$)\")\n",
    "plt.legend()\n",
    "plt.xlabel(\"log parameter\")\n",
    "plt.ylabel(\"Probability density\")\n",
    "plt.grid()\n",
    "plt.show()"
   ]
  },
  {
   "cell_type": "markdown",
   "metadata": {},
   "source": [
    "### The Monte Carlo sampler\n",
    "\n",
    "We now have everything we need to specify a Monte Carlo sampler with STAN. The code below is self-explanatory, recapitulating the paragraphs above."
   ]
  },
  {
   "cell_type": "code",
   "execution_count": 60,
   "metadata": {
    "collapsed": true
   },
   "outputs": [],
   "source": [
    "stan_code = \"\"\"\n",
    "\n",
    "data {\n",
    "  int<lower=1> N;       // Number of data points\n",
    "  int<lower=1> D;       // Input space dimensionality\n",
    "  matrix[N, D] X;       // Input design matrix\n",
    "  vector[N] y;          // Target vector\n",
    "\n",
    "  // Gamma hyperparameters\n",
    "  real mu_noise;\n",
    "  real sd_noise;\n",
    "  real mu_signal;\n",
    "  real sd_signal;\n",
    "  real mu_lengthscale;\n",
    "  real sd_lengthscale;\n",
    "}\n",
    "\n",
    "transformed data {\n",
    "  vector[N] mu;\n",
    "  for (i in 1:N) mu[i] = mean(y);\n",
    "}\n",
    "\n",
    "parameters {\n",
    "  real log_lengthscale;\n",
    "  real log_noise;\n",
    "  real log_signal;\n",
    "}\n",
    "\n",
    "transformed parameters{\n",
    "    real lengthscale;\n",
    "    real noise;\n",
    "    real signal;\n",
    "    lengthscale = exp(log_lengthscale);\n",
    "    noise = exp(log_noise);\n",
    "    signal = exp(log_signal);\n",
    "}\n",
    "\n",
    "model {\n",
    "    matrix[N, N] Sigma;\n",
    "    log_noise ~ normal(mu_noise, sd_noise);\n",
    "    log_signal ~ normal(mu_signal, sd_signal);\n",
    "    log_lengthscale ~ normal(mu_lengthscale, sd_lengthscale);\n",
    "\n",
    "    for (i in 1:N){\n",
    "        for (j in 1:N){\n",
    "            Sigma[i, j] = exp(-square(1.0 / lengthscale) * square(dot_self(X[i] - X[j])));\n",
    "        }\n",
    "    }\n",
    "    Sigma = signal * Sigma + diag_matrix(rep_vector(noise, N));\n",
    "\n",
    "    // GP\n",
    "    y ~ multi_normal(mu, Sigma);\n",
    "}\n",
    "\"\"\""
   ]
  },
  {
   "cell_type": "markdown",
   "metadata": {},
   "source": [
    "The stan model is ready for compiling."
   ]
  },
  {
   "cell_type": "code",
   "execution_count": 61,
   "metadata": {
    "scrolled": true
   },
   "outputs": [
    {
     "name": "stderr",
     "output_type": "stream",
     "text": [
      "INFO:pystan:COMPILING THE C++ CODE FOR MODEL anon_model_e7a9f87c5c9ea54918d8e90cf83109d5 NOW.\n"
     ]
    }
   ],
   "source": [
    "sm = StanModel(model_code=stan_code)"
   ]
  },
  {
   "cell_type": "markdown",
   "metadata": {},
   "source": [
    "Given some evaluations of the scoring function that we have invested in above, we can now efficiently sample the possible values of the hyperparameters. This gives us a posterior distribution of all three parameters, rather than a single value."
   ]
  },
  {
   "cell_type": "code",
   "execution_count": 62,
   "metadata": {},
   "outputs": [
    {
     "name": "stderr",
     "output_type": "stream",
     "text": [
      "/Users/martins/Dev/py3/lib/python3.6/site-packages/pystan/misc.py:399: FutureWarning: Conversion of the second argument of issubdtype from `float` to `np.floating` is deprecated. In future, it will be treated as `np.float64 == np.dtype(float).type`.\n",
      "  elif np.issubdtype(np.asarray(v).dtype, float):\n"
     ]
    },
    {
     "name": "stdout",
     "output_type": "stream",
     "text": [
      "Noise variance (posterior mean): 0.034\n",
      "Signal variance (posterior mean): 1.219\n",
      "Lengthscale (posterior mean): 5.147\n"
     ]
    }
   ],
   "source": [
    "def sample_hyperparameters(X, y, lookahead):\n",
    "    \"\"\" Sample hyperparameters with the Stan model. \"\"\"\n",
    "    fit = sm.sampling(data={\"X\": X[lookahead], \"y\": y, \"D\": 1, \"N\": len(y),\n",
    "                            \"mu_noise\": mu_noise,\n",
    "                            \"sd_noise\": sd_noise,\n",
    "                            \"mu_signal\": mu_signal,\n",
    "                            \"sd_signal\": sd_signal,\n",
    "                            \"mu_lengthscale\": mu_lengthscale,\n",
    "                            \"sd_lengthscale\": sd_lengthscale,})\n",
    "    noise_post = np.mean(fit[\"noise\"])\n",
    "    signal_post = np.mean(fit[\"signal\"])\n",
    "    lengthscale_post = np.mean(fit[\"lengthscale\"])\n",
    "    return noise_post, signal_post, lengthscale_post\n",
    "\n",
    "y = np.array(scores).ravel()\n",
    "noise_post, signal_post, lengthscale_post = sample_hyperparameters(X, y, lookahead)\n",
    "\n",
    "print(\"Noise variance (posterior mean): %.3f\" % noise_post)\n",
    "print(\"Signal variance (posterior mean): %.3f\" % signal_post)\n",
    "print(\"Lengthscale (posterior mean): %.3f\" % lengthscale_post)"
   ]
  },
  {
   "cell_type": "markdown",
   "metadata": {},
   "source": [
    "Note that the posterior mean of the signal is greater than the mean of the noise, which indicates that there migh be some regularity in our black-box function. Given these values, we can fot a GP regression model over the space of considered parameters, giving us an estimate of the mean and (importantly) the variance - <i>uncertainty</i> - of the predictions at each $x$.\n",
    "\n",
    "Hold tight for a visualization that follows soon!"
   ]
  },
  {
   "cell_type": "code",
   "execution_count": 63,
   "metadata": {
    "collapsed": true
   },
   "outputs": [],
   "source": [
    "def fit_gp(X, y, lookahead, noise_var, signal_var, lengthscale):\n",
    "    Kx = exponential_kernel(X, X, lengthscale=lengthscale)\n",
    "    gp = GP(noise=noise_var, signal=signal_var)\n",
    "    gp.fit(Kx[lookahead, :][:, lookahead], y)\n",
    "    ym, yv = gp.predict(Kx[:, lookahead], np.diagonal(Kx))\n",
    "    return ym, yv\n",
    "    \n",
    "ym, yv = fit_gp(X, y, lookahead, noise_post, signal_post, lengthscale_post)"
   ]
  },
  {
   "cell_type": "markdown",
   "metadata": {},
   "source": [
    "To minimize the loss function using our newly inferred surrogate model - the GP - we need a way to determine which point in the parameter space is worthy of sampling. This requires balancing the mean prediciton (where we believe the dunction values are low) and uncertainty (unexplored regions). This is known as the exploitation/exploration trade-off and is realized by using <i>acquisition functions</i>.\n",
    "\n",
    "A commonly used acquisition function is the <i>Expected improvement</i>, that calculates the probability\n",
    "$p(f(x) < \\tau)$ for some predefined threshold $\\tau$. Typically, $\\tau$ will be set to the minimal observed value so far."
   ]
  },
  {
   "cell_type": "code",
   "execution_count": 64,
   "metadata": {
    "collapsed": true
   },
   "outputs": [],
   "source": [
    "def ei(mu, std, tau):\n",
    "    \"\"\"\n",
    "    Calculate expected improvement.\n",
    "    :param mu: mu(x)\n",
    "    :param std: std(x)\n",
    "    :param tau: lower bound.\n",
    "    :return:\n",
    "    \"\"\"\n",
    "    z = (mu.ravel() - tau) / std.ravel()\n",
    "    return (mu.ravel() - tau) * mvn.cdf(z) + std.ravel() * mvn.pdf(z)\n"
   ]
  },
  {
   "cell_type": "markdown",
   "metadata": {},
   "source": [
    "<font color=\"green\"><b>Note   </b></font> The acqusition function is dependent on the mean and the variance of our posterior predictive distribution. The former is based on a single instantiation of the three parameters - the posterior means.  We could improve this process by using <i>integrated acquisition</i>, that computing acquistion for each single sample of parameters returned by the sampler."
   ]
  },
  {
   "cell_type": "code",
   "execution_count": 65,
   "metadata": {},
   "outputs": [],
   "source": [
    "def compute_acquisition(ym, yv):\n",
    "    \"\"\" Compute acquisition function and return next candidates \"\"\"\n",
    "    aq = ei(mu = -ym, std=np.sqrt(yv), tau=max(-ym))\n",
    "    aq[lookahead] = -np.inf\n",
    "    imax = np.argmax(aq)\n",
    "    return aq, imax\n",
    "\n",
    "aq, imax = compute_acquisition(ym, yv)"
   ]
  },
  {
   "cell_type": "markdown",
   "metadata": {},
   "source": [
    "We can finally visualize our observed score, the surrogate model and the acquisition funciton (below). Notice how uncertainty increases in the regions far from the points where we have observed the black box function value. The acquisition funtion will recommend sampling the next value of $f$ where the model predicts low values, but also displays high uncertainty. This happes at some point $x_{\\text{new}}$."
   ]
  },
  {
   "cell_type": "code",
   "execution_count": 66,
   "metadata": {},
   "outputs": [
    {
     "data": {
      "image/png": "[encoded data removed]",
      "text/plain": [
       "<matplotlib.figure.Figure at 0x14648ea58>"
      ]
     },
     "metadata": {
      "needs_background": "light"
     },
     "output_type": "display_data"
    }
   ],
   "source": [
    "def plot_fit(X, y, lookahead, ym, yv, aq, title=\"\"):\n",
    "    \"\"\" Plot the model fit and the acquisition function. \"\"\"\n",
    "    fig, ax = plt.subplots(nrows=2, ncols=1)\n",
    "    ax[0].set_title(title)\n",
    "    ax[0].plot(X[lookahead], y, \".\", color=\"black\")\n",
    "    ax[0].plot(X, ym, \"-\", color=\"blue\")\n",
    "    ax[0].fill_between(X.ravel(), ym.ravel()-yv.ravel(), ym.ravel()+yv.ravel(), color=\"blue\", alpha=0.4)\n",
    "    ax[0].set_ylabel(\"Validation Loss\")\n",
    "    ax[1].plot(X.ravel(), aq, color=\"blue\")\n",
    "    ax[1].plot(X[imax], aq[imax], \"*\")\n",
    "    ax[1].set_ylabel(\"Acquisition\")\n",
    "    ax[1].set_xlabel(\"Parameter\")\n",
    "    \n",
    "plot_fit(X, y, lookahead, ym, yv, aq)"
   ]
  },
  {
   "cell_type": "markdown",
   "metadata": {},
   "source": [
    "We can evaluate the funciton value at $x_{\\text{new}}$, update our lookahead set and model. The visualized the updated model, you can re-run all the cells above."
   ]
  },
  {
   "cell_type": "code",
   "execution_count": 34,
   "metadata": {},
   "outputs": [
    {
     "name": "stdout",
     "output_type": "stream",
     "text": [
      "Index: 20\talpha: 1.38e-10\tloss:34.34\n",
      "Index: 500\talpha: 3.19e-07\tloss:6.23\n",
      "Index: 980\talpha: 7.36e-04\tloss:0.75\n",
      "Index: 791\talpha: 3.49e-05\tloss:0.21\n"
     ]
    }
   ],
   "source": [
    "# Add to look-ahead and compute scores\n",
    "lookahead = np.array(list(lookahead) + [imax])\n",
    "sc = score_parameters(x_train, x_test, original_dim, alpha1=10**X[imax, 0])[-1]\n",
    "scores.append(sc)\n",
    "for ai, s in zip(lookahead, scores):\n",
    "    print(\"Index: %d\\talpha: %.2e\\tloss:%.2f\" % (ai, 10**X[ai, 0], s))"
   ]
  },
  {
   "cell_type": "markdown",
   "metadata": {},
   "source": [
    "### An iterative optimization algorithm (Thompson sampling)\n",
    "We are ready to define an iterative algorithm to optimize the model loss in a Bayesian optimization manner. The acquisition function dictates which point to select next, tradig off exploration and exploitation. The final recommendation - the perceived optimum - is taken to be the maximum of the related GP fit. This iterative procedure of sampling and updating the model is known as Thompson sampling.\n",
    "\n",
    "This will take a couple of minutes (depending of hardware), which is exactly the scenario where you want to use Bayesian optimization."
   ]
  },
  {
   "cell_type": "code",
   "execution_count": null,
   "metadata": {},
   "outputs": [],
   "source": [
    "# Select initial evaluations\n",
    "lookahead = np.array([20, 500, 980])\n",
    "scores = np.array([score_parameters(x_train, x_test, original_dim, alpha1=10**X[i])[-1] \n",
    "                   for i in lookahead]).ravel()\n",
    "\n",
    "# Iterate 10 times\n",
    "for step in range(10):\n",
    "    noise_post, signal_post, lengthscale_post = sample_hyperparameters(X, scores, lookahead)\n",
    "    ym, yv = fit_gp(X, scores, lookahead, noise_post, signal_post, lengthscale_post)\n",
    "    aq, imax = compute_acquisition(ym, yv)\n",
    "\n",
    "    plot_fit(X, scores, lookahead, ym, yv, aq, title=\"Step %d\" % step)\n",
    "\n",
    "    iscore = score_parameters(x_train, x_test, original_dim, alpha1=10**X[imax, 0])[-1]\n",
    "    lookahead = np.array(list(lookahead) + [imax])\n",
    "    scores = np.array(list(scores) + [iscore])\n",
    "    \n",
    "    print(\"Step: %d\\tnext point: %d\\tnext score: %.3f\" % (step, imax, iscore))\n"
   ]
  },
  {
   "cell_type": "markdown",
   "metadata": {},
   "source": [
    "Notice how the optimization will lock in the regions where the function value is low after an initial exploration phase.\n",
    "\n",
    "Finally, we can plot how our Variational Autoencoder is performing by sampling some images. We can see the perceived order of digits that now live in the latent 1D space. Note that in the original tutorial, the authors used a 2D latent space and are able to reconstruct the digits 0-9 even more precisely."
   ]
  },
  {
   "cell_type": "code",
   "execution_count": null,
   "metadata": {
    "collapsed": true
   },
   "outputs": [],
   "source": [
    "ibest = np.argmin(ym)\n",
    "factory, model, _ = score_parameters(x_train, x_test, original_dim, alpha1=10**X[ibest, 0])\n",
    "factory.plot_results_1D()"
   ]
  },
  {
   "cell_type": "markdown",
   "metadata": {},
   "source": [
    "## Conclusion\n",
    "\n",
    "Bayesian optimization is the method of choice for optimization of expensive-to-evaluate, black-box function. Specifying a surrogate GP model with STAN takes care of sampling necessary parameters and allows for fine control of possible parameter values. \n",
    "\n",
    "Replacing the `score_parameters` with a custom function should make this notebook useful for optimizing an arbitrary process and parameters."
   ]
  },
  {
   "cell_type": "markdown",
   "metadata": {},
   "source": [
    "## References\n",
    "\n",
    "Shahriari, B., et al. \"Taking the human out of the loop: A review of bayesian optimization.\" Proceedings of the IEEE 104.1 (2016): 148-175.\n",
    "\n",
    "Carpenter, Bob, et al. \"Stan: A probabilistic programming language.\" Journal of statistical software 76.1 (2017)."
   ]
  }
 ],
 "metadata": {
  "kernelspec": {
   "display_name": "Python (venv)",
   "language": "python",
   "name": "myenv"
  },
  "language_info": {
   "codemirror_mode": {
    "name": "ipython",
    "version": 3
   },
   "file_extension": ".py",
   "mimetype": "text/x-python",
   "name": "python",
   "nbconvert_exporter": "python",
   "pygments_lexer": "ipython3",
   "version": "3.6.3"
  }
 },
 "nbformat": 4,
 "nbformat_minor": 1
}
