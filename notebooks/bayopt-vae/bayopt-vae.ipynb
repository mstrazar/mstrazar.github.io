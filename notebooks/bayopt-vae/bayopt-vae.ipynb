{
 "cells": [
  {
   "cell_type": "markdown",
   "metadata": {},
   "source": [
    "Start with imports."
   ]
  },
  {
   "cell_type": "code",
   "execution_count": 8,
   "metadata": {},
   "outputs": [],
   "source": [
    "import numpy as np\n",
    "import matplotlib.pyplot as plt\n",
    "from pystan import StanModel\n",
    "from keras.datasets import mnist\n",
    "from vae import VAE\n",
    "from gp import GP\n",
    "from scipy.stats import multivariate_normal as mvn\n",
    "from scipy.spatial.distance import cdist"
   ]
  },
  {
   "cell_type": "markdown",
   "metadata": {},
   "source": []
  },
  {
   "cell_type": "code",
   "execution_count": 9,
   "metadata": {},
   "outputs": [
    {
     "name": "stdout",
     "output_type": "stream",
     "text": [
      "/Users/martins/Dev/py3/bin/python\n"
     ]
    }
   ],
   "source": [
    "import sys\n",
    "print(sys.executable)"
   ]
  },
  {
   "cell_type": "code",
   "execution_count": 13,
   "metadata": {},
   "outputs": [],
   "source": [
    "stan_code = \"\"\"\n",
    "\n",
    "/*\n",
    "Sample variance hyperparameters from the GP posterior distribution,\n",
    "given a pre-specified set of kernel matrices.\n",
    "*/\n",
    "\n",
    "data {\n",
    "  int<lower=1> N;       // Number of data points\n",
    "  int<lower=1> D;       // Input space dimensionality\n",
    "  matrix[N, D] X;       // Input design matrix\n",
    "  vector[N] y;          // Target vector\n",
    "\n",
    "  // Gamma hyperparameters\n",
    "  real mu_noise;\n",
    "  real sd_noise;\n",
    "  real mu_signal;\n",
    "  real sd_signal;\n",
    "  real mu_band;\n",
    "  real sd_band;\n",
    "}\n",
    "\n",
    "transformed data {\n",
    "  vector[N] mu;\n",
    "  for (i in 1:N) mu[i] = mean(y);\n",
    "}\n",
    "\n",
    "parameters {\n",
    "  real log_bandwidth;\n",
    "  real log_noise;\n",
    "  real log_signal;\n",
    "}\n",
    "\n",
    "transformed parameters{\n",
    "    real bandwidth;\n",
    "    real noise;\n",
    "    real signal;\n",
    "    bandwidth = exp(log_bandwidth);\n",
    "    noise = exp(log_noise);\n",
    "    signal = exp(log_signal);\n",
    "}\n",
    "\n",
    "model {\n",
    "    matrix[N, N] Sigma;\n",
    "    log_noise ~ normal(mu_noise, sd_noise);\n",
    "    log_signal ~ normal(mu_signal, sd_signal);\n",
    "    log_bandwidth ~ normal(mu_band, sd_band);\n",
    "\n",
    "    for (i in 1:N){\n",
    "        for (j in 1:N){\n",
    "            Sigma[i, j] = signal * exp(-bandwidth * square(dot_self(X[i] - X[j])));\n",
    "        }\n",
    "    }\n",
    "    Sigma = Sigma + diag_matrix(rep_vector(noise, N));\n",
    "\n",
    "    // GP\n",
    "    y ~ multi_normal(mu, Sigma);\n",
    "}\n",
    "\"\"\""
   ]
  },
  {
   "cell_type": "code",
   "execution_count": null,
   "metadata": {},
   "outputs": [
    {
     "name": "stderr",
     "output_type": "stream",
     "text": [
      "INFO:pystan:COMPILING THE C++ CODE FOR MODEL anon_model_7bba7403f204af5f998047409576fd7b NOW.\n"
     ]
    }
   ],
   "source": [
    "sm = StanModel(model_code=stan_code)"
   ]
  },
  {
   "cell_type": "code",
   "execution_count": 7,
   "metadata": {
    "collapsed": true
   },
   "outputs": [],
   "source": [
    "def exponential_kernel(X, Y, bandwidth=1.0):\n",
    "    \"\"\"\n",
    "        :param X: Array of shape (n_samples, n_features)\n",
    "        :param Y: Array of shape (n_samples, n_features)\n",
    "        :param bandwidth: (``float``) Bandwidth.\n",
    "        :return: Kernel matrix between data points.\n",
    "    \"\"\"\n",
    "    return np.exp(-bandwidth * cdist(X, Y, metric=\"euclidean\") ** 2)"
   ]
  },
  {
   "cell_type": "code",
   "execution_count": null,
   "metadata": {},
   "outputs": [],
   "source": []
  },
  {
   "cell_type": "code",
   "execution_count": null,
   "metadata": {
    "collapsed": true
   },
   "outputs": [],
   "source": []
  }
 ],
 "metadata": {
  "kernelspec": {
   "display_name": "Python (venv)",
   "language": "python",
   "name": "myenv"
  },
  "language_info": {
   "codemirror_mode": {
    "name": "ipython",
    "version": 3
   },
   "file_extension": ".py",
   "mimetype": "text/x-python",
   "name": "python",
   "nbconvert_exporter": "python",
   "pygments_lexer": "ipython3",
   "version": "3.6.3"
  }
 },
 "nbformat": 4,
 "nbformat_minor": 1
}
