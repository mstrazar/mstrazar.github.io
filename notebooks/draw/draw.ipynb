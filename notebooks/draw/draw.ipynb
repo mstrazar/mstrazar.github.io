{
 "cells": [
  {
   "cell_type": "markdown",
   "metadata": {},
   "source": [
    "## Champions League last 16 recursion\n",
    "\n",
    "<br/>\n",
    "<figure>\n",
    "<img src=\"./img/urn.jpg\"/>\n",
    "</figure>\n",
    "\n",
    "Tomorrow, Monday, Dec 17th, top sixteen european football clubs await their opponents in the knock-out stages in the UEFA Champions League. <a href=\"https://www.uefa.com/uefachampionsleague/season=2019/draws/round=2000981/\">The draw is scheduled for 12pm</a>.\n",
    "\n",
    "What's interesting about the draw is that the pairs are not drawn completely at random. The pot is separated into group winners and runners-up, where the teams advancing from the same group cannot meet each other in the last 16 stage. Additionally, teams from the same country cannot play each other at this stage.\n",
    "\n",
    "These constraints lead to an interesting non-uniform distribution over possible pairs. Here, we design a simple recursive algorithm to assign probabilities for each pair.\n",
    "\n",
    "An interesting situation happened <a href=\"https://www.facebook.com/photo.php?fbid=10155397869534671&set=a.384846034670&type=3&theater\">last year</a>; Barcelona finished first in its group, while other Spanish teams finished second. Chelsea, on the other hand, finished second, while other English clubs won their groups. It meant that Barcelona and Chelsea were destined to meet at at strikingly high 43% probability. After the draw, Barca actually got Chelsea (Messi&co then easily dispatched the opponents over two legs).\n",
    "\n",
    "This year does not contain such an extreme situation, however some teams can already start preparing for the kind of opponent they are likely to get.\n",
    "\n"
   ]
  },
  {
   "cell_type": "markdown",
   "metadata": {},
   "source": [
    "Let's start by importing the dynamic duo, numpy and matplotlib."
   ]
  },
  {
   "cell_type": "code",
   "execution_count": 2,
   "metadata": {
    "collapsed": true
   },
   "outputs": [],
   "source": [
    "import numpy as np\n",
    "import matplotlib.pyplot as plt"
   ]
  },
  {
   "cell_type": "markdown",
   "metadata": {},
   "source": [
    "This year, the following teams are involved:\n",
    "\n",
    "<b>Group winners</b>: Barcelona (ESP, Group B), Bayern München (GER, E),\n",
    "Borussia Dortmund (GER, A), Juventus (ITA, H), Manchester City (ENG, F),\n",
    "Paris Saint-Germain (FRA, C), Porto (POR, D), Real Madrid (ESP, holders, G).\n",
    "\n",
    "<b>Group runners-up</b>:\n",
    "Ajax (NED, E), Atlético Madrid (ESP, A), Liverpool (ENG, C), Lyon (FRA, F), Manchester United (ENG, H), Roma (ITA, G), Schalke (GER, D), Tottenham Hotspur (ENG, B).\n",
    "\n",
    "\n",
    "We can represent this data as a binary matrix, indicating which teams are eligible to play each other:"
   ]
  },
  {
   "cell_type": "code",
   "execution_count": 3,
   "metadata": {
    "collapsed": true
   },
   "outputs": [],
   "source": [
    "# Data matrix\n",
    "X = np.array([\n",
    "       #AJA #ATM  #LIV  #LYO  #MUN  #ROM  #SCH  #TOT\n",
    "       [1,  0,    1,    1,    1,    1,    1,    0], #BAR\n",
    "       [0,  1,    1,    1,    1,    1,    0,    1], #BAY\n",
    "       [1,  0,    1,    1,    1,    1,    0,    1], #BOR\n",
    "       [1,  1,    1,    1,    0,    0,    1,    1], #JUV\n",
    "       [1,  1,    0,    0,    0,    1,    1,    0], #MCI\n",
    "       [1,  1,    0,    0,    1,    1,    1,    1], #PSG\n",
    "       [1,  1,    1,    1,    1,    1,    0,    1], #POR\n",
    "       [1,  0,    1,    1,    1,    0,    1,    1]  #REA\n",
    "    ])\n",
    "\n",
    "# Name rows and columns for show\n",
    "rownames = [\"Barcelona\", \"Bayern M.\", \"Borussia D.\", \"Juventus\", \"Manchester C.\", \"Paris S.G.\", \"Porto\", \"Real M.\"]\n",
    "colnames = [\"Ajax\", \"Atletico M.\", \"Liverpool\", \"Lyon\", \"Manchester U.\", \"Roma\", \"Schalke 04\", \"Tottenham H.\"]"
   ]
  },
  {
   "cell_type": "markdown",
   "metadata": {},
   "source": [
    "The more zeros team A has in its row/column, the more probability mass will be put to other candidates to meet team A. We can already see that Manchester City will likely meet Atletico Madrid. But exactly how likely? "
   ]
  },
  {
   "cell_type": "markdown",
   "metadata": {},
   "source": [
    "We design a fairly simple recursive algorithm that enumerates each possible path through the draw. It would be sufficient to simply count the permutations and discard invalid ones, but this seems an intuitive way if one needs to list all the draws. \n",
    "\n",
    "\n",
    "We will use a stack that simulates recursive calls to a function, that adds each possible group-winner to a runner-up one step at a time. If the path reaches the end, we found a valid draw outcome and the probabilities of pairs are increased accordingly. Otherwise, the path building stops and the candidate path is discarded.\n",
    "\n"
   ]
  },
  {
   "cell_type": "code",
   "execution_count": 4,
   "metadata": {
    "collapsed": true
   },
   "outputs": [],
   "source": [
    "def matrix2sets(X):\n",
    "    \"\"\" Convert a data matrix to list of sets. \"\"\"\n",
    "    n = X.shape[0]\n",
    "    data = [set({}) for i in range(n)]\n",
    "    for r, c in zip(*np.where(X)):\n",
    "        data[r].add(c)\n",
    "    return data"
   ]
  },
  {
   "cell_type": "markdown",
   "metadata": {},
   "source": [
    "Our path data structure contains the current path, the set of nodes on the current path (for more efficient set operations), and the next position to look at."
   ]
  },
  {
   "cell_type": "code",
   "execution_count": 5,
   "metadata": {
    "collapsed": true
   },
   "outputs": [],
   "source": [
    "class Candidate:\n",
    "    path = None     # Ordered nodes\n",
    "    nodes = None    # All nodes\n",
    "    pos = None      # Next position to look\n",
    "\n",
    "    def __init__(self):\n",
    "        self.path = []\n",
    "        self.nodes = set([])\n",
    "        self.pos = 0\n"
   ]
  },
  {
   "cell_type": "markdown",
   "metadata": {},
   "source": [
    "The solution is fairly simple to read; A dummy candidate path is constructed at the beggining, and new nodes are added in each step until the path terminates (we found a valid draw outcome) or there are no more possible opponents for the partly built path."
   ]
  },
  {
   "cell_type": "code",
   "execution_count": 6,
   "metadata": {
    "collapsed": true
   },
   "outputs": [],
   "source": [
    "# Solution with tail recursion\n",
    "def process(data):\n",
    "    \"\"\" Return a count matrix of how often each pair appears in the path. \"\"\"\n",
    "\n",
    "    # Add an empty path to stack\n",
    "    stack = [Candidate()]\n",
    "    n = len(data)\n",
    "\n",
    "    # Counter matrix\n",
    "    C = np.zeros((len(data), len(data)))\n",
    "\n",
    "    # Keep extending paths until hitting end or\n",
    "    #  no options to extend\n",
    "    while not len(stack) == 0:\n",
    "        curr = stack.pop()\n",
    "        if curr.pos == n:\n",
    "            C[(list(range(n)),\n",
    "               curr.path)] += 1\n",
    "            continue\n",
    "\n",
    "        # Create new candidate paths\n",
    "        nodes = data[curr.pos] - curr.nodes\n",
    "        for no in nodes:\n",
    "            new = Candidate()\n",
    "            new.path = curr.path + [no]\n",
    "            new.nodes = curr.nodes | {no}\n",
    "            new.pos = curr.pos + 1\n",
    "            stack.append(new)\n",
    "\n",
    "    return C"
   ]
  },
  {
   "cell_type": "markdown",
   "metadata": {},
   "source": [
    "After obtaining the result, we convert the counts into probabilities."
   ]
  },
  {
   "cell_type": "code",
   "execution_count": 10,
   "metadata": {},
   "outputs": [
    {
     "data": {
      "text/plain": [
       "array([[14.,  0., 17., 17., 17., 16., 18.,  0.],\n",
       "       [ 0., 18., 17., 17., 17., 15.,  0., 17.],\n",
       "       [14.,  0., 18., 18., 18., 16.,  0., 18.],\n",
       "       [13., 19., 17., 17.,  0.,  0., 18., 17.],\n",
       "       [20., 29.,  0.,  0.,  0., 23., 28.,  0.],\n",
       "       [14., 19.,  0.,  0., 17., 16., 18., 17.],\n",
       "       [12., 16., 15., 15., 15., 14.,  0., 15.],\n",
       "       [14.,  0., 17., 17., 17.,  0., 18., 17.]])"
      ]
     },
     "execution_count": 10,
     "metadata": {},
     "output_type": "execute_result"
    }
   ],
   "source": [
    "data = matrix2sets(X)\n",
    "C = process(data)\n",
    "P = 100 * np.round((C / C.sum(axis=0)), 2)\n",
    "P"
   ]
  },
  {
   "cell_type": "markdown",
   "metadata": {},
   "source": [
    "Finally, let's add a plotting function to read our result."
   ]
  },
  {
   "cell_type": "code",
   "execution_count": 17,
   "metadata": {
    "collapsed": true
   },
   "outputs": [],
   "source": [
    "def hm(D, rownames, colnames):\n",
    "    \"\"\" Heatmap for a data matrix D annotated with text.\"\"\"\n",
    "    plt.figure(figsize=(8, 8))\n",
    "    heatmap = plt.pcolor(D, vmin=0, vmax=66)\n",
    "    for y in range(D.shape[0]):\n",
    "        for x in range(D.shape[1]):\n",
    "            if D[y, x]:\n",
    "                plt.text(x + 0.5, y + 0.5, '%.1f' % D[y, x],\n",
    "                         horizontalalignment='center',\n",
    "                         verticalalignment='center',)\n",
    "    cb = plt.colorbar(heatmap)\n",
    "    cb.set_label(\"Probability (%)\", horizontalalignment='center')\n",
    "    n = len(D)\n",
    "    ax = plt.gca()\n",
    "    ax.xaxis.set_label_position('top')\n",
    "    ax.xaxis.tick_top()\n",
    "    plt.gca().set_xticks(np.linspace(0.5, n-0.5, n))\n",
    "    plt.gca().set_yticks(np.linspace(0.5, n-0.5, n))\n",
    "    plt.gca().set_xticklabels(colnames, rotation=90)\n",
    "    plt.gca().set_yticklabels(rownames)\n",
    "    plt.xlim(0, n)\n",
    "    plt.ylim(0, n)\n",
    "    plt.show()"
   ]
  },
  {
   "cell_type": "code",
   "execution_count": 18,
   "metadata": {},
   "outputs": [
    {
     "data": {
      "image/png": "[encoded data removed]",
      "text/plain": [
       "<matplotlib.figure.Figure at 0x111c04780>"
      ]
     },
     "metadata": {},
     "output_type": "display_data"
    }
   ],
   "source": [
    "hm(P, rownames, colnames)"
   ]
  },
  {
   "cell_type": "markdown",
   "metadata": {},
   "source": [
    "Looks like Atletico will most likely face a tough trip to the north of England, where we would see two most contrasting teams. Manchester City  made the most of their group stage; avoiding Atletico they would likely progress easily. \n",
    "\n",
    "Elsewhere, Manchester United really messed up their chances of progressing by finishing second. They will now face one of the European big dogs, as the chances to get Porto are very small.\n",
    "\n",
    "For exercise, one can re-run this algorithm on the more complex, Europa league last-32 stage!"
   ]
  }
 ],
 "metadata": {
  "kernelspec": {
   "display_name": "Python 3",
   "language": "python",
   "name": "python3"
  },
  "language_info": {
   "codemirror_mode": {
    "name": "ipython",
    "version": 3
   },
   "file_extension": ".py",
   "mimetype": "text/x-python",
   "name": "python",
   "nbconvert_exporter": "python",
   "pygments_lexer": "ipython3",
   "version": "3.6.3"
  }
 },
 "nbformat": 4,
 "nbformat_minor": 1
}
